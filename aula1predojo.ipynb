{
  "cells": [
    {
      "cell_type": "markdown",
      "metadata": {
        "id": "zhGyA25jYrRK"
      },
      "source": [
        "Uma pequena pausa para uma oração antes de nossa codificação"
      ]
    },
    {
      "cell_type": "code",
      "execution_count": null,
      "metadata": {
        "id": "WF95vlTOYrRL",
        "colab": {
          "base_uri": "https://localhost:8080/"
        },
        "outputId": "52048cc2-9c34-4e7a-c166-5494414940f5"
      },
      "outputs": [
        {
          "output_type": "stream",
          "name": "stdout",
          "text": [
            "The Zen of Python, by Tim Peters\n",
            "\n",
            "Beautiful is better than ugly.\n",
            "Explicit is better than implicit.\n",
            "Simple is better than complex.\n",
            "Complex is better than complicated.\n",
            "Flat is better than nested.\n",
            "Sparse is better than dense.\n",
            "Readability counts.\n",
            "Special cases aren't special enough to break the rules.\n",
            "Although practicality beats purity.\n",
            "Errors should never pass silently.\n",
            "Unless explicitly silenced.\n",
            "In the face of ambiguity, refuse the temptation to guess.\n",
            "There should be one-- and preferably only one --obvious way to do it.\n",
            "Although that way may not be obvious at first unless you're Dutch.\n",
            "Now is better than never.\n",
            "Although never is often better than *right* now.\n",
            "If the implementation is hard to explain, it's a bad idea.\n",
            "If the implementation is easy to explain, it may be a good idea.\n",
            "Namespaces are one honking great idea -- let's do more of those!\n"
          ]
        }
      ],
      "source": [
        "import this"
      ]
    },
    {
      "cell_type": "markdown",
      "metadata": {
        "id": "ihr4oNvNYrRM"
      },
      "source": [
        "Traduzindo para as terras tupiniquins, temos:"
      ]
    },
    {
      "cell_type": "code",
      "execution_count": null,
      "metadata": {
        "id": "MrP3nDXPYrRM"
      },
      "outputs": [],
      "source": [
        "\"\"\"\n",
        "O Zen do Python, por Tim Peters\n",
        "\n",
        "Belo é melhor do que feio.\n",
        "Explícito é melhor do que implícito.\n",
        "Simples é melhor do que complexo.\n",
        "Complexo é melhor do que complicado.\n",
        "Linear é melhor do que aninhado.\n",
        "Esparso é melhor do que denso.\n",
        "Legibilidade é importante.\n",
        "Casos especiais não são especiais o suficiente para quebrar as regras.\n",
        "Mesmo que praticidade ganhe da pureza.\n",
        "Erros nunca deverão passar silenciosamente.\n",
        "A não ser que explicitamente silenciados.\n",
        "Em face da ambiguidade, negue a tentação de adivinhar.\n",
        "Deve haver um-- e preferencialmente apenas um --modo óbvio de ser fazer.\n",
        "Embora esse caminho possa não ser óbvio a princípio, a menos que você seja holandês.\n",
        "Agora é melhor do que nunca.\n",
        "Embora nunca é geralmente melhor do que *exatamente* agora.\n",
        "Se a implementação é díficil de explicar, é uma ideia ruim.\n",
        "Se a implementação é fácil de explicar, pode ser uma boa ideia.\n",
        "Namespaces são uma ideia do caramba-- vamos fazer mais deles!\n",
        "\"\"\""
      ]
    },
    {
      "cell_type": "markdown",
      "metadata": {
        "id": "OfLbM4WwYrRN"
      },
      "source": [
        "## Parte 1: O Beabá do Python"
      ]
    },
    {
      "cell_type": "markdown",
      "metadata": {
        "id": "aWtZH-aPYrRN"
      },
      "source": [
        "Para o nosso primeiro código, vamos para o clássico Hello World. Que em Python é literalmente uma linha. Não precisa encapsular em uma função como em C ou criar uma classe inteira só pra escrever no console como em Java. Só uma função no escopo global e vamo que vamo!"
      ]
    },
    {
      "cell_type": "code",
      "execution_count": null,
      "metadata": {
        "id": "D26GlSefYrRN",
        "colab": {
          "base_uri": "https://localhost:8080/"
        },
        "outputId": "a7547516-4aff-438a-ad80-2af4224b8abf"
      },
      "outputs": [
        {
          "output_type": "stream",
          "name": "stdout",
          "text": [
            "Hello, world!\n"
          ]
        }
      ],
      "source": [
        "print(\"Hello, world!\")"
      ]
    },
    {
      "cell_type": "markdown",
      "metadata": {
        "id": "r3FBFk4hYrRO"
      },
      "source": [
        "É possível também concatenar textos diferentens em um mesmo print. Basta utilizar vírgulas"
      ]
    },
    {
      "cell_type": "code",
      "execution_count": null,
      "metadata": {
        "id": "GO8xllD3YrRO",
        "colab": {
          "base_uri": "https://localhost:8080/"
        },
        "outputId": "8529711f-12b0-4076-c6d5-d0ddd254662c"
      },
      "outputs": [
        {
          "output_type": "stream",
          "name": "stdout",
          "text": [
            "Hello, world! Olá, mundo!\n"
          ]
        }
      ],
      "source": [
        "print(\"Hello, world!\", \"Olá, mundo!\")"
      ]
    },
    {
      "cell_type": "markdown",
      "metadata": {
        "id": "E6aYUkiUYrRO"
      },
      "source": [
        "O primeiro aspecto da linguagem que vamos abordar são as variáveis.\n",
        "\n",
        "Variáveis são como caixas que guardam informações, podendo estar vazias ou conter dados como números, texto, datas, bytes, etc. Como o nome sugere, elas são variáveis, o que significa que você pode trocar o valor dentro dela.\n",
        "\n",
        "Existem dois tipos linguagens quando se fala de variáveis: linguagens tipadas e linguagens dinâmicas.\n",
        "\n",
        "Em linguagens tipadas (como Java, C#, C) cada \"caixa\" de uma variável vem com um selo que diz qual o tipo da variável, que não pode ser mudado em nenhuma ocasião.\n",
        "\n",
        "```\n",
        "int numero = 42; // \"numero\" SÓ PODE ser um número inteiro\n",
        "String texto = \"Hello, World!\" // \"texto\" SÓ PODE ser uma string\n",
        "int [] lista = { 1, 2, 3, 4 } //etc\n",
        "```\n",
        "\n",
        "Mas Python é uma linguagem dinâmica, isso é, a variável pode ser de qualquer tipo e pode mudar a qualquer momento.\n",
        "\n",
        "Abaixo usamos a função type() para saber qual o tipo de dado daquela variável específica"
      ]
    },
    {
      "cell_type": "code",
      "execution_count": null,
      "metadata": {
        "id": "dshsheHsYrRP",
        "colab": {
          "base_uri": "https://localhost:8080/"
        },
        "outputId": "76135ee1-77fc-4141-e21e-108a6c866ad0"
      },
      "outputs": [
        {
          "output_type": "stream",
          "name": "stdout",
          "text": [
            "42  =>  <class 'int'>\n",
            "Hype tá no hype  =>  <class 'str'>\n",
            "[1, 2, 3, 4, 5]  =>  <class 'list'>\n"
          ]
        }
      ],
      "source": [
        "valor = 42 # \"valor\" é um número inteiro\n",
        "print(valor, \" => \", type(valor))\n",
        "\n",
        "valor = \"Hype tá no hype\" # \"valor\" agora é um texto\n",
        "print(valor, \" => \", type(valor))\n",
        "\n",
        "\n",
        "valor = [1, 2, 3, 4, 5] # \"valor\" agora é uma lista (array)\n",
        "print(valor, \" => \", type(valor))"
      ]
    },
    {
      "cell_type": "markdown",
      "metadata": {
        "id": "p44ajtZKYrRP"
      },
      "source": [
        "Fácil, não? Você não precisa dizer explicitamente qual o tipo da variável, porque o interpretador vai fazer isso por você.\n",
        "\n",
        "Mas se quiser ter *absoluta* certeza do tipo da variável, você pode passá-la para um função de conversão (cast), que pode fazer uma string se tornar em um inteiro, por exemplo."
      ]
    },
    {
      "cell_type": "code",
      "execution_count": null,
      "metadata": {
        "id": "TrrDpCwXYrRP",
        "colab": {
          "base_uri": "https://localhost:8080/"
        },
        "outputId": "afd79d7f-0446-41a9-87ab-6379a3bd91cc"
      },
      "outputs": [
        {
          "output_type": "stream",
          "name": "stdout",
          "text": [
            "20\n"
          ]
        }
      ],
      "source": [
        "nao_numero = int(\"10\")\n",
        "numero = int(10)\n",
        "\n",
        "# São do mesmo tipo\n",
        "print(nao_numero + numero)\n",
        "\n",
        "# Você pode fazer isso com vários tipos de dados\n",
        "str() # Para Strings\n",
        "float() # Para floats (números reais)\n",
        "list() # Para listas\n",
        "tuple(); # Para tuplas"
      ]
    },
    {
      "cell_type": "markdown",
      "metadata": {
        "id": "KwJZfupmYrRQ"
      },
      "source": [
        "Ou ainda pode também checar o tipo da váriavel (mas geralmente uma boa estrutura de código e nome de váriavel já diz qual o tipo dela)"
      ]
    },
    {
      "cell_type": "code",
      "execution_count": null,
      "metadata": {
        "id": "t1_JyIpOYrRQ",
        "colab": {
          "base_uri": "https://localhost:8080/"
        },
        "outputId": "fa1f61aa-8c6c-4941-fb0c-302b25820db7"
      },
      "outputs": [
        {
          "output_type": "execute_result",
          "data": {
            "text/plain": [
              "(str, int, float)"
            ]
          },
          "metadata": {},
          "execution_count": 8
        }
      ],
      "source": [
        "# Você consegue instanciar várias variáveis em uma linha!\n",
        "string, numero, numero_real = \"Python é Maneiro!\", 42, 35.9\n",
        "\n",
        "type(string), type(numero), type(numero_real)"
      ]
    },
    {
      "cell_type": "markdown",
      "metadata": {
        "id": "T0oYHoNrYrRQ"
      },
      "source": [
        "Esses abaixo são os tipos de dados mais usados no dia a dia codando em Python (e o que iremos focar no nosso curso.)\n",
        "\n",
        "Outros que não iremos usar aqui, mas é legal saber que existem:\n",
        "- Complex (números complexos)\n",
        "- Set (conjunto de elementos sem repetição)\n",
        "- Bytes\n",
        "- ByteArray (array de bytes)"
      ]
    },
    {
      "cell_type": "code",
      "execution_count": null,
      "metadata": {
        "id": "daIoP7uaYrRR",
        "colab": {
          "base_uri": "https://localhost:8080/"
        },
        "outputId": "fc32c7e4-945a-4de3-cd01-3d1df9f032bb"
      },
      "outputs": [
        {
          "output_type": "stream",
          "name": "stdout",
          "text": [
            "Olá, Mundo! <class 'str'>\n"
          ]
        }
      ],
      "source": [
        "# String de texto\n",
        "# string são declaradas entre aspas duplas ou simples\n",
        "string = \"Oi Pessoal!\"\n",
        "string2 = 'Olá, Mundo!'\n",
        "print(string2, type(string2))"
      ]
    },
    {
      "cell_type": "code",
      "execution_count": null,
      "metadata": {
        "id": "ER-aQssqYrRR"
      },
      "outputs": [],
      "source": [
        "# Número inteiro\n",
        "# basta digitar o número sem aspas\n",
        "inteiro = 42"
      ]
    },
    {
      "cell_type": "code",
      "execution_count": null,
      "metadata": {
        "id": "72Bjv6UJYrRR"
      },
      "outputs": [],
      "source": [
        "# Número de ponto flutuante (número real)\n",
        "# utilize \".\" como separador da parte decimal\n",
        "flutuante = 42.24"
      ]
    },
    {
      "cell_type": "code",
      "execution_count": null,
      "metadata": {
        "id": "H-bSjvUEYrRS",
        "colab": {
          "base_uri": "https://localhost:8080/"
        },
        "outputId": "d3fed3f3-2534-4ab0-a4b4-c7fec6f9302d"
      },
      "outputs": [
        {
          "output_type": "stream",
          "name": "stdout",
          "text": [
            "Oi Pessoal\n",
            "42.24\n"
          ]
        }
      ],
      "source": [
        "# Lista de elementos == vetor\n",
        "# declarada entre colchetes e elementos separados por vírgula\n",
        "lista = [\"Oi Pessoal\", 42, 42.24]\n",
        "print(lista[0])\n",
        "print(lista[2])\n",
        "cadastro =[\"Jaime\", 18, \"Each - Usp\"]"
      ]
    },
    {
      "cell_type": "code",
      "execution_count": null,
      "metadata": {
        "id": "1AvUgER2YrRS"
      },
      "outputs": [],
      "source": [
        "# Tupla (lista de elementos imutável)\n",
        "# declarada entre parênteses e não pode ser alterada\n",
        "tupla = (\"Oi Pessoal\", 42, 42.24)"
      ]
    },
    {
      "cell_type": "code",
      "execution_count": null,
      "metadata": {
        "id": "yQ1UkdbfYrRS",
        "colab": {
          "base_uri": "https://localhost:8080/"
        },
        "outputId": "b7d9f01d-8f73-4eff-ea25-f8660d0f1097"
      },
      "outputs": [
        {
          "output_type": "stream",
          "name": "stdout",
          "text": [
            "range(0, 10)\n"
          ]
        }
      ],
      "source": [
        "# Intervalo de valores\n",
        "# gera um intervalo de valores que será muito útil em loops mais a frente\n",
        "intervalo = range(10)\n",
        "print(intervalo)\n"
      ]
    },
    {
      "cell_type": "code",
      "execution_count": null,
      "metadata": {
        "id": "OeBBInmXYrRT",
        "colab": {
          "base_uri": "https://localhost:8080/"
        },
        "outputId": "62241baf-696b-4e43-b9e6-0f2b742f119d"
      },
      "outputs": [
        {
          "output_type": "stream",
          "name": "stdout",
          "text": [
            "{'flutuante': 42.24,\n",
            " 'inteiro': 42,\n",
            " 'lista': ['Oi Pessoal', 42, 42.24],\n",
            " 'string': 'Oi Pessoal'}\n",
            "{'altura': 170,\n",
            " 'curso': ['Each Usp', 'SI'],\n",
            " 'nome': 'Jaime',\n",
            " 'peso': 65.7,\n",
            " 'sexo': True}\n"
          ]
        }
      ],
      "source": [
        "from pprint import pprint  # importação para imprimir dicionários de forma melhor (recurso cosmético apenas)\n",
        "\n",
        "# Dicionário (lista de elementos com índices não-inteiros)\n",
        "# é declarado entre chaves, tem cada par índice-elemento seaparado por víruglas\n",
        "# e o índice e o elemnto são separados por \":\" (dois pontos)\n",
        "#tipo uma struct\n",
        "dicio = {\n",
        "    \"string\": \"Oi Pessoal\",\n",
        "    \"inteiro\": 42,\n",
        "    \"flutuante\": 42.24,\n",
        "    \"lista\": [\"Oi Pessoal\", 42, 42.24]\n",
        "}\n",
        "\n",
        "cadastro = {\n",
        "    \"nome\" : \"Jaime\",\n",
        "    \"peso\" : 65.7,\n",
        "    \"altura\" : 170,\n",
        "    \"sexo\" : True,\n",
        "    \"curso\" : [\"Each Usp\", \"SI\"]\n",
        "}\n",
        "\n",
        "pprint(dicio)\n",
        "\n",
        "pprint(cadastro)\n"
      ]
    },
    {
      "cell_type": "code",
      "execution_count": null,
      "metadata": {
        "id": "oFIBaNY3YrRT",
        "colab": {
          "base_uri": "https://localhost:8080/"
        },
        "outputId": "2040cba2-d9db-4966-c47b-972941bf64ed"
      },
      "outputs": [
        {
          "output_type": "stream",
          "name": "stdout",
          "text": [
            "[True, False, False, True]\n"
          ]
        }
      ],
      "source": [
        "# Booleanos\n",
        "# booleanos são os True e False. Note que são escritos com inicial maiúscula\n",
        "bool_true = True\n",
        "bool_false = False\n",
        "lista_booleanos = [True, False, False, True]\n",
        "print(lista_booleanos)"
      ]
    },
    {
      "cell_type": "code",
      "execution_count": null,
      "metadata": {
        "id": "NZiabdJHYrRT"
      },
      "outputs": [],
      "source": [
        "# Valor Nulo (None)\n",
        "# Valor que não atribui tipo à variável\n",
        "nulo = None"
      ]
    },
    {
      "cell_type": "markdown",
      "metadata": {
        "id": "b6iHsgnoYrRU"
      },
      "source": [
        "Esses são os tipos de dados mais comuns de usarmos no dia a dia. É importante que você tenha alguma familiaridade com eles."
      ]
    },
    {
      "cell_type": "markdown",
      "metadata": {
        "id": "WOnxQrHgYrRU"
      },
      "source": [
        "Uma vez que já temos variáveis, podemos fazer manipulações algebricas com elas.\n",
        "\n",
        "Imagine a seguinte situação:\n",
        "\n",
        "O professor E. Biruta quer calcular a média final dos seus 3 mil alunos, mas como são muitos pra fazer na mão ele quer criar um programa para fazer isso pra ele. A média é feita assim:\n",
        "\n",
        "Existem duas provas (P1 e P2), e a nota é calculada da seguinte forma:\n",
        "\n",
        "- A nota da P1 mais um, vale 60% da nota\n",
        "- A nota da P2 menos um, vale 40%\n",
        "\n",
        "- Essas duas notas ponderadas agora são somadas\n",
        "\n",
        "E para a média é calculado assim:\n",
        "\n",
        "- Peso-P1 mais Peso-P2\n",
        "- Como bônus, a gente incrementa o resto da média com a segunda potência de 2 (módulo da média com 2^2) para ter um nota extra"
      ]
    },
    {
      "cell_type": "code",
      "execution_count": null,
      "metadata": {
        "id": "oZ4xH00CYrRU",
        "colab": {
          "base_uri": "https://localhost:8080/"
        },
        "outputId": "3b978116-c30e-4d07-c46d-c3cbf875ec1e"
      },
      "outputs": [
        {
          "output_type": "stream",
          "name": "stdout",
          "text": [
            "Média antes do bônus:  7.6\n",
            "Nota final:  10\n"
          ]
        }
      ],
      "source": [
        "# Valor das provas\n",
        "p1, p2 = 7, 8\n",
        "\n",
        "# Cada Prova tem seu peso\n",
        "p1_ponderada = (p1 + 1) * 0.6\n",
        "p2_ponderada = (p2 - 1) * 0.4\n",
        "\n",
        "# Media é a soma dos dois\n",
        "media = p1_ponderada + p2_ponderada\n",
        "bonus = media % 2**2\n",
        "nota_final = media + bonus\n",
        "if (nota_final > 10):\n",
        "  nota_final = 10\n",
        "\n",
        "print(\"Média antes do bônus: \", media)\n",
        "print(\"Nota final: \", nota_final)"
      ]
    },
    {
      "cell_type": "markdown",
      "metadata": {
        "id": "zrF4p6MsYrRU"
      },
      "source": [
        "Outros operadores que temos além de adição e subitração são:\n",
        "\n",
        "/ : divisão, (3/4 é 3 dividido por 4)\n",
        "\n",
        "** : potência, (3**4 mesmo que 3^4)\n",
        "\n",
        "% : resto da divisão, (3 % 4 é o resto da divisão 3/4)"
      ]
    },
    {
      "cell_type": "code",
      "execution_count": null,
      "metadata": {
        "id": "5-3kBBswYrRV",
        "colab": {
          "base_uri": "https://localhost:8080/"
        },
        "outputId": "25c5e627-d1d4-47ce-9a84-45b5a506351e"
      },
      "outputs": [
        {
          "output_type": "stream",
          "name": "stdout",
          "text": [
            "0.75\n",
            "81\n",
            "3\n"
          ]
        }
      ],
      "source": [
        "print(3/4)\n",
        "print(3**4)\n",
        "print(3%4)"
      ]
    },
    {
      "cell_type": "markdown",
      "metadata": {
        "id": "R6cET4S8YrRV"
      },
      "source": [
        "Assim como nós podemos usar operadores em números, alguns deles nós podemos usar em textos, para fazer algumas manipulações!"
      ]
    },
    {
      "cell_type": "code",
      "execution_count": null,
      "metadata": {
        "id": "KJaCqo8AYrRV",
        "colab": {
          "base_uri": "https://localhost:8080/"
        },
        "outputId": "3715b86b-4d98-4d9e-f20f-0b7cacec5133"
      },
      "outputs": [
        {
          "output_type": "stream",
          "name": "stdout",
          "text": [
            "Meu nome é Hypezinho\n",
            "My name is, My name is, My name is, Slim Shady\n",
            "Meu nome é Hypezinho\n",
            "My name is, My name is, My name is, My name is, My name is, My name is, My name is, My name is, My name is, My name is, \n"
          ]
        }
      ],
      "source": [
        "str1 = \"Meu nome é \"\n",
        "nome = \"Hypezinho\"\n",
        "# Concatenação de Strings (Só funciona se os dois operandos forem string!)\n",
        "print(str1 + nome)\n",
        "\n",
        "str1 = \"My name is, \"\n",
        "# Repetição de string (Um dos operandos tem de ser um número inteiro!)\n",
        "print((str1 * 3) + \"Slim Shady\")\n",
        "\n",
        "# Formatação de String (vamos ver outros exemplos mais para frente)\n",
        "#igual o identador de c\n",
        "print(\"Meu nome é %s\" % nome)\n",
        "print((str1*10))"
      ]
    },
    {
      "cell_type": "markdown",
      "metadata": {
        "id": "L-WLcoLnYrRV"
      },
      "source": [
        "Podemos usar em listas também!"
      ]
    },
    {
      "cell_type": "code",
      "execution_count": null,
      "metadata": {
        "id": "QK_eQO7IYrRV",
        "colab": {
          "base_uri": "https://localhost:8080/"
        },
        "outputId": "4e602221-30fb-42eb-b98d-c6c4a5dcf71c"
      },
      "outputs": [
        {
          "output_type": "stream",
          "name": "stdout",
          "text": [
            "[1, 2, 3, 4, 5, 6]\n",
            "[1, 2, 3, 1, 2, 3, 1, 2, 3]\n",
            "['Jaime', 'Cavalcanti']\n"
          ]
        }
      ],
      "source": [
        "lista1, lista2 = [1, 2, 3], [4, 5, 6]\n",
        "lista3, lista4 = [\"Jaime\"], [\"Cavalcanti\"]\n",
        "print(lista1 + lista2) # Concatenação de Listas (Só funciona se todos os operandos forem uma lista!)\n",
        "print(lista1 * 3)      # Repetição de Lista (Um dos operandos tem de ser um número inteiro!)\n",
        "print(lista3 + lista4)"
      ]
    },
    {
      "cell_type": "markdown",
      "metadata": {
        "id": "-TbGpgDtYrRV"
      },
      "source": [
        "Passando dos operadores aritiméticos iremos ver a função que permite receber informações do usuário.\n",
        "\n",
        "A função input() retorna as informações digitadas pelo usuário em forma de string, porém com as funções de conversão o valor pode ser transformado em números, listas, etc.\n",
        "\n",
        "Vamos fazer seu perfil de aluno de python?"
      ]
    },
    {
      "cell_type": "code",
      "execution_count": null,
      "metadata": {
        "id": "7N98_auhYrRV",
        "colab": {
          "base_uri": "https://localhost:8080/"
        },
        "outputId": "006251b7-0ec6-4c37-8198-0ef00726afa0"
      },
      "outputs": [
        {
          "output_type": "stream",
          "name": "stdout",
          "text": [
            "Formulário de Aluno\n",
            "Nome do Aluno: jaime cavalcanti \n",
            "Idade do Aluno: 18\n",
            "Nome: jaime cavalcanti \n",
            "Idade daqui a um ano: 19\n",
            "Cadastro:  ['jaime cavalcanti ', 18]\n"
          ]
        }
      ],
      "source": [
        "print(\"Formulário de Aluno\")\n",
        "\n",
        "# Retorna seu nome em uma string\n",
        "nome = input(\"Nome do Aluno: \")\n",
        "\n",
        "# Transformamos em inteiro\n",
        "idade = int(input(\"Idade do Aluno: \"))\n",
        "\n",
        "cadastro =[nome, idade]\n",
        "\n",
        "print(\"Nome:\", nome)\n",
        "print(\"Idade daqui a um ano:\", (idade + 1))\n",
        "print(\"Cadastro: \", cadastro)"
      ]
    },
    {
      "cell_type": "markdown",
      "metadata": {
        "id": "Bi30BRf9YrRW"
      },
      "source": [
        "# Parte 2: Condicionais"
      ]
    },
    {
      "cell_type": "markdown",
      "metadata": {
        "id": "n6q3o6scYrRW"
      },
      "source": [
        "Às vezes queremos rodar instruções somente se alguma condição é verdadeira (ou falsa), e para isso controlamos o que pode ou não ser executado com instruções condicionais.\n",
        "\n",
        "Para checagens condicionais usamos a expressão \"if\", que checa se uma expressão booleana é verdadeira. E caso não for, a expressão \"else\" diz o que a gente deve fazer."
      ]
    },
    {
      "cell_type": "code",
      "execution_count": null,
      "metadata": {
        "id": "eTXS9mtcYrRW",
        "colab": {
          "base_uri": "https://localhost:8080/"
        },
        "outputId": "76cde416-7e39-492e-ccee-ab5e18b54fa2"
      },
      "outputs": [
        {
          "output_type": "stream",
          "name": "stdout",
          "text": [
            "É mentira :(\n"
          ]
        }
      ],
      "source": [
        "# Os valores True e False *devem* ser escritos com a primeira letra maiúscula\n",
        "# Senão serão tratados como uma variável\n",
        "valor = False\n",
        "\n",
        "if valor == True:\n",
        "    print(\"É verdade! :D\") # Se a condição for verdadeira\n",
        "else:\n",
        "    print(\"É mentira :(\") # Se a condição for falsa"
      ]
    },
    {
      "cell_type": "markdown",
      "metadata": {
        "id": "zglNpUaAYrRW"
      },
      "source": [
        "Imagine o exemplo de sistema de uma rede social que libera informações diferentes dependendo da idade do usuário.\n",
        "\n",
        "- Se a idade do usuário for maior que 18 a rede mostra os conteúdos sem censura.\n",
        "- Se a idade do usuário for entre 15 e 18 a rede mostra conteúdos com uma certa censura\n",
        "- Se a idade do usuário for entre 10 e 15 a rede mostra conteúdos com um nivel maior de censura\n",
        "- e caso tenha menos que 10 ano a rede mostra apenas conteúdos infantis\n",
        "\n",
        "Um código que resolveria esse problema seria algo como:\n"
      ]
    },
    {
      "cell_type": "code",
      "execution_count": null,
      "metadata": {
        "id": "EAIjwNTJYrRW"
      },
      "outputs": [],
      "source": [
        "idade = 17 # Mude aqui, e teste\n",
        "\n",
        "if idade >= 18:\n",
        "    print('Sem censura')\n",
        "\n",
        "# nível 1 de censura\n",
        "if idade > 15 and idade < 18:\n",
        "    print('Censura 1')\n",
        "\n",
        "# Recebimento da nota extra abaixo da média\n",
        "if idade > 10 and idade <= 15:\n",
        "    print('Censura 2')\n",
        "\n",
        "if idade <= 10:\n",
        "    print('Censura infantil')\n"
      ]
    },
    {
      "cell_type": "markdown",
      "metadata": {
        "id": "nUrB8gcwYrRX"
      },
      "source": [
        "Como as condições são independentes entre si (nunca vai ter uma idade maior que 18 e menor que 15 ao mesmo temo), a gente pode colocar ele num *if sequencial*, que é mais eficiente.\n",
        "\n",
        "Podemos criar vários \"if\"s usando a expressão \"elif\". Que é um \"else\", só que colocamos outra expressão para checar em vez de só executar.  "
      ]
    },
    {
      "cell_type": "code",
      "execution_count": null,
      "metadata": {
        "id": "pxfNn4t3YrRX"
      },
      "outputs": [],
      "source": [
        "idade = 10 # Mude aqui, e teste\n",
        "\n",
        "if idade > 18: # Recebimento da nota extra abaixo da média\n",
        "    print('Sem censura')\n",
        "elif idade > 15 and idade < 18:\n",
        "    print('Censura 1')\n",
        "elif idade > 10 and idade <= 15:\n",
        "    print('Censura 2')\n",
        "\n",
        "else:\n",
        "    print('Censura infantil')\n",
        "# o else só é executado se nenhum dos elif for executado\n"
      ]
    },
    {
      "cell_type": "markdown",
      "metadata": {
        "id": "VPCdSWEYYrRX"
      },
      "source": [
        "Quando estamos utilizando expressões booleanas existem alguns operadores que são utilizados. Você já entrou em contato com alguns deles no código acima.\n",
        "\n",
        "São eles:\n",
        "\n",
        "* and, or, not,  in (operadores \"e\", \"ou\", \"not\", \"está em\")\n",
        "* \\>, <, >=, <=, ==, !=\n",
        "(maior, menor, maior e igual, menor e igual, igual e diferente respectivamente)"
      ]
    },
    {
      "cell_type": "markdown",
      "metadata": {
        "id": "zNwk5zedYrRX"
      },
      "source": [
        "# Parte 3: Estruturas de Dados"
      ]
    },
    {
      "cell_type": "markdown",
      "metadata": {
        "id": "pwiEJcg4YrRX"
      },
      "source": [
        "Curiosamente, em python não existem arrays embutidos nativamente. Já que por definição, um array é um bloco de memória *contínuo* que pode armazenar múltiplos valores, sendo que seu tamanho é imutável e os valores aramazenados são do mesmo tipo.\n",
        "\n",
        "Em python temos ao invés listas, que, como o nome indica, são listas de valores de tamanho variável e que podem armazenar quaisquer valores dentro. Tecnicamente não são como arrays, mas por razões de brevidade e didática, vamos tratar como a mesma coisa."
      ]
    },
    {
      "cell_type": "code",
      "execution_count": null,
      "metadata": {
        "id": "sgtT7xAyYrRY",
        "colab": {
          "base_uri": "https://localhost:8080/"
        },
        "outputId": "2461448a-7544-4510-d69c-cb19e4028615"
      },
      "outputs": [
        {
          "output_type": "stream",
          "name": "stdout",
          "text": [
            "Python:22.34\n"
          ]
        }
      ],
      "source": [
        "# Pode ser instanciado assim:\n",
        "lista = list()\n",
        "# ou assim:\n",
        "lista = []\n",
        "\n",
        "# \".append\" adiciona um elemento no final de uma lista\n",
        "lista.append(\"Python\")\n",
        "lista.append(42)\n",
        "lista.append(( \"Um\", \"exemplo\", \"de\", \"tupla\" ))\n",
        "lista.append(22.34)\n",
        "lista # vários tipos de dados num mesmo lugar!\n",
        "print(lista[0], lista[3], sep = ':')"
      ]
    },
    {
      "cell_type": "markdown",
      "metadata": {
        "id": "kqMjwXhtYrRY"
      },
      "source": [
        "Podemos também brincar com os índices das listas com alguns outros graus de liberdade em relação a outras linguagens de programação, uma vez que temos operações com eles."
      ]
    },
    {
      "cell_type": "code",
      "execution_count": null,
      "metadata": {
        "id": "pYD8Zr54YrRY",
        "colab": {
          "base_uri": "https://localhost:8080/"
        },
        "outputId": "a7ffebbe-79a3-437c-c552-43de9b6026cf"
      },
      "outputs": [
        {
          "output_type": "stream",
          "name": "stdout",
          "text": [
            "Python - 42 - ('Um', 'exemplo', 'de', 'tupla')\n",
            "22.34 - ('Um', 'exemplo', 'de', 'tupla') - 42\n"
          ]
        }
      ],
      "source": [
        "# Podemos usar os índices normalmente\n",
        "print(lista[0], lista[1], lista[2], sep=\" - \")\n",
        "\n",
        "# Mas existem também índices negativos! (a contagem é feita de traz para frente)\n",
        "# -1 -> Último item da lista, -2 -> Penúltimo, -3 -> Antepenúltimo, etc...\n",
        "print(lista[-1], lista[-2], lista[-3], sep=\" - \")\n",
        "\n"
      ]
    },
    {
      "cell_type": "markdown",
      "metadata": {
        "id": "N6HCa0J_YrRY"
      },
      "source": [
        "É possível também selecionar listar por intervalos (slice de listas). Basta utilizar a formatação lista[primeiro:ultimo], sendo \"primeiro\" o índice do primeiro elemento do intervalo e \"ultimo\" o último elemento do intervalo (o valor \"ultimo\" fica fora da seleção)"
      ]
    },
    {
      "cell_type": "code",
      "execution_count": null,
      "metadata": {
        "id": "_e5wfleWYrRY",
        "colab": {
          "base_uri": "https://localhost:8080/"
        },
        "outputId": "5bcc2fa8-ecc9-49d8-b906-2420acf24351"
      },
      "outputs": [
        {
          "output_type": "stream",
          "name": "stdout",
          "text": [
            " Slices:\n",
            "1 => [True, True]\n",
            "2 => [True, True]\n",
            "3 => [True, True, 42, 'Eu sou o segundo', ('Um', 'exemplo', 'de', 'tupla'), 'Python', 'Elementos ;)', {'dicio': 'nario', 'ex': 'tra'}, ('Uma', 'tupla'), 42, ('Meu nome eh', 'Jaime'), 42, ('Meu nome eh', 'Jaime'), 42, 42, 42, 42]\n",
            "4 => [True, True, True, 42, 'Eu sou o segundo', ('Um', 'exemplo', 'de', 'tupla'), 'Python', 'Elementos ;)', {'dicio': 'nario', 'ex': 'tra'}, ('Uma', 'tupla'), 42, ('Meu nome eh', 'Jaime'), 42, ('Meu nome eh', 'Jaime'), 42, 42, 42]\n",
            "5 => [True, True, True, 42, 'Eu sou o segundo', ('Um', 'exemplo', 'de', 'tupla'), 'Python', 'Elementos ;)', {'dicio': 'nario', 'ex': 'tra'}, ('Uma', 'tupla'), 42, ('Meu nome eh', 'Jaime'), 42, ('Meu nome eh', 'Jaime'), 42, 42, 42, 42]\n",
            "[True, True, True, 'Eu sou o segundo', ('Um', 'exemplo', 'de', 'tupla'), 'Python', 'Elementos ;)', {'dicio': 'nario', 'ex': 'tra'}, ('Uma', 'tupla'), 42, ('Meu nome eh', 'Jaime'), 42, ('Meu nome eh', 'Jaime'), 42, 42, 42, 42, 42]\n"
          ]
        },
        {
          "output_type": "execute_result",
          "data": {
            "text/plain": [
              "[True,\n",
              " True,\n",
              " True,\n",
              " True,\n",
              " 'Eu sou o segundo',\n",
              " ('Um', 'exemplo', 'de', 'tupla'),\n",
              " 'Python',\n",
              " 'Elementos ;)',\n",
              " {'dicio': 'nario', 'ex': 'tra'},\n",
              " ('Uma', 'tupla'),\n",
              " 42,\n",
              " ('Meu nome eh', 'Jaime'),\n",
              " 42,\n",
              " ('Meu nome eh', 'Jaime'),\n",
              " 42,\n",
              " 42,\n",
              " 42,\n",
              " 42,\n",
              " 42]"
            ]
          },
          "metadata": {},
          "execution_count": 22
        }
      ],
      "source": [
        "print(\" Slices:\")\n",
        "# Podemos pegar slices (ou \"pedaços\") da lista usando índices\n",
        "print(\"1 =>\", lista[1:3]) # Do segundo ao terceiro elemento (o indice 3 fica fora slice) [1, 3)\n",
        "print(\"2 =>\", lista[:2])  # Todos os elementos *até* a segunda posição\n",
        "print(\"3 =>\", lista[1:])  # Todos os elementos *a partir* da segunda posição\n",
        "print(\"4 =>\", lista[:-1]) # Excluindo o último elemento\n",
        "print(\"5 =>\", lista[:])   # Todos os elementos da lista\n",
        "lista.append(42)\n",
        "lista.remove(42)\n",
        "print(lista[:])\n",
        "lista_extra = [(\"Meu nome eh\", \"Jaime\")]\n",
        "lista.insert(0, True)\n",
        "lista"
      ]
    },
    {
      "cell_type": "markdown",
      "metadata": {
        "id": "gOzGt1uRYrRY"
      },
      "source": [
        "As listas possuem métodos próprios para lidar com operações básicas dos seus elementos, como por exemplo:"
      ]
    },
    {
      "cell_type": "code",
      "execution_count": null,
      "metadata": {
        "id": "5b_yj_sJYrRY",
        "colab": {
          "base_uri": "https://localhost:8080/"
        },
        "outputId": "b8faacce-80c2-49b0-c44f-22cf7809fd46"
      },
      "outputs": [
        {
          "output_type": "stream",
          "name": "stdout",
          "text": [
            "Depois de remover: [True, True, True, True, 'Eu sou o segundo', ('Um', 'exemplo', 'de', 'tupla'), 'Python', 'Elementos ;)', {'dicio': 'nario', 'ex': 'tra'}, ('Uma', 'tupla'), 42, ('Meu nome eh', 'Jaime'), 42, ('Meu nome eh', 'Jaime'), 42, 42, 42, 42, 42]\n",
            "Lista invertida:  [42, 42, 42, 42, 42, ('Meu nome eh', 'Jaime'), 42, ('Meu nome eh', 'Jaime'), 42, ('Uma', 'tupla'), {'dicio': 'nario', 'ex': 'tra'}, 'Elementos ;)', 'Python', ('Um', 'exemplo', 'de', 'tupla'), 'Eu sou o segundo', True, True, True, True]\n",
            "Lista extendida:  [42, 42, 42, 42, 42, ('Meu nome eh', 'Jaime'), 42, ('Meu nome eh', 'Jaime'), 42, ('Uma', 'tupla'), {'dicio': 'nario', 'ex': 'tra'}, 'Elementos ;)', 'Python', ('Um', 'exemplo', 'de', 'tupla'), 'Eu sou o segundo', True, True, True, True, 'Elementos ;)', {'dicio': 'nario', 'ex': 'tra'}, ('Uma', 'tupla')]\n",
            "Novo elemento na segunda posição: [42, 'Eu sou o segundo', 42, 42, 42, 42, ('Meu nome eh', 'Jaime'), 42, ('Meu nome eh', 'Jaime'), 42, ('Uma', 'tupla'), {'dicio': 'nario', 'ex': 'tra'}, 'Elementos ;)', 'Python', ('Um', 'exemplo', 'de', 'tupla'), 'Eu sou o segundo', True, True, True, True, 'Elementos ;)', {'dicio': 'nario', 'ex': 'tra'}, ('Uma', 'tupla')]\n",
            "Estamos aqui\n"
          ]
        }
      ],
      "source": [
        "# Remove o elemento da lista\n",
        "lista.append(22.34)\n",
        "lista.remove(22.34)\n",
        "print(\"Depois de remover:\", lista)\n",
        "\n",
        "# Inverte a ordem dos elementos da lista\n",
        "lista.reverse()\n",
        "print(\"Lista invertida: \", lista)\n",
        "\n",
        "# Ordena os elementos da lista\n",
        "# Aqui ele não vai funcionar, por que temos outras listas dentro dele :(\n",
        "# lista.sort()\n",
        "# print(\"Lista ordenada: \", lista)\n",
        "\n",
        "# Adiciona os elementos de outra lista no final da lista\n",
        "nova_lista = [\"Elementos ;)\", {\"dicio\": \"nario\", \"ex\": \"tra\"}, (\"Uma\", \"tupla\")]\n",
        "lista.extend(nova_lista)\n",
        "print(\"Lista extendida: \", lista)\n",
        "\n",
        "# Coloca um novo elemento no índice dado\n",
        "lista.insert(1, \"Eu sou o segundo\")\n",
        "print(\"Novo elemento na segunda posição:\", lista)\n",
        "\n",
        "# Checa se o valor existe na lista\n",
        "if \"Python\" in lista:\n",
        "    print(\"Estamos aqui\")\n",
        "else:\n",
        "    print(\"Não estamos aqui\")"
      ]
    },
    {
      "cell_type": "markdown",
      "metadata": {
        "id": "0EnIuB5MYrRZ"
      },
      "source": [
        "Tuplas são exatamente iguais a listas, com uma diferença crucial: elas são imutáveis, isso é, os valores de uma tupla não podem ser mudados. Ou seja, é uma lista que você cria apenas uma vez e ela é *read-only*."
      ]
    },
    {
      "cell_type": "code",
      "execution_count": null,
      "metadata": {
        "id": "dmKzf2QTYrRZ",
        "colab": {
          "base_uri": "https://localhost:8080/"
        },
        "outputId": "97a0c28e-81b0-4072-baad-9e5cc3351161"
      },
      "outputs": [
        {
          "output_type": "stream",
          "name": "stdout",
          "text": [
            "baNaNa Jaime\n",
            "baNaNa 42 True 84.09 Jaime\n"
          ]
        }
      ],
      "source": [
        "tupla = (\"baNaNa\", 42, True, 84.09, \"Jaime\")\n",
        "\n",
        "# Indices funcionam exatamente como listas\n",
        "print(tupla[0], tupla[-1])\n",
        "\n",
        "# Cada valor pode ser desempacotado de sua tupla:\n",
        "fruta, resposta, verdade, preco, nome = tupla #deu nome pra cada um dos campos\n",
        "print(fruta, resposta, verdade, preco, nome)\n",
        "\n",
        "# São constantes, não podem ser mudadas\n",
        "#tupla[1] = \"Error :(\""
      ]
    },
    {
      "cell_type": "markdown",
      "metadata": {
        "id": "C9h59K0PYrRZ"
      },
      "source": [
        "Dicionários são listas com índices de strings ao invés de inteiros.\n",
        "\n",
        "Aqui nós usamos para criar elementos nomeados dentro de uma estrutura de dados, e assim como listas, aceitam qualquer tipo de dados."
      ]
    },
    {
      "cell_type": "code",
      "execution_count": null,
      "metadata": {
        "id": "oedWaSTAYrRZ"
      },
      "outputs": [],
      "source": [
        "dicio = {\n",
        "    \"mensagem\": \"Bom dia, Joãozinho!\",\n",
        "    \"tamanho\": 15,\n",
        "    \"amigos\": [\"Miguel\", \"Maria\", \"Lisa\", \"Steve\"]\n",
        "}"
      ]
    },
    {
      "cell_type": "code",
      "source": [
        "from pprint import pprint\n",
        "dicionario = {\n",
        "    \"lista\": [1, 2, 3],\n",
        "    \"tupla\": (1,2,3),\n",
        "    \"str\": \"Jaime Cavalcanti\"\n",
        "\n",
        "}\n",
        "pprint(dicionario)\n",
        "print(\"Primeiro campo:\", dicionario[\"lista\"])"
      ],
      "metadata": {
        "colab": {
          "base_uri": "https://localhost:8080/"
        },
        "id": "BA4YXzXZoQ4K",
        "outputId": "05487dcd-ab1c-459a-eb30-3c2675a34c5a"
      },
      "execution_count": null,
      "outputs": [
        {
          "output_type": "stream",
          "name": "stdout",
          "text": [
            "{'lista': [1, 2, 3], 'str': 'Jaime Cavalcanti', 'tupla': (1, 2, 3)}\n",
            "Primeiro campo: [1, 2, 3]\n"
          ]
        }
      ]
    },
    {
      "cell_type": "code",
      "source": [
        "if \"lista\" in dicionario:\n",
        "  print(\"Deu bom\")\n"
      ],
      "metadata": {
        "id": "8i0iKn-1pasS",
        "outputId": "ecab27d0-42a5-4797-dfa3-c885f54c582e",
        "colab": {
          "base_uri": "https://localhost:8080/"
        }
      },
      "execution_count": null,
      "outputs": [
        {
          "output_type": "stream",
          "name": "stdout",
          "text": [
            "Deu bom\n"
          ]
        }
      ]
    },
    {
      "cell_type": "code",
      "execution_count": null,
      "metadata": {
        "id": "mNJxk094YrRZ",
        "colab": {
          "base_uri": "https://localhost:8080/"
        },
        "outputId": "db4ce007-c772-4732-a967-bc5098e7fc52"
      },
      "outputs": [
        {
          "output_type": "stream",
          "name": "stdout",
          "text": [
            "15\n",
            "Bom dia, Joãozinho!\n"
          ]
        },
        {
          "output_type": "execute_result",
          "data": {
            "text/plain": [
              "{'mensagem': 'Bom dia, Joãozinho!',\n",
              " 'tamanho': 15,\n",
              " 'amigos': ['Miguel', 'Maria', 'Lisa', 'Steve'],\n",
              " 'preco': 32,\n",
              " 'produto': 'BaNaNa'}"
            ]
          },
          "metadata": {},
          "execution_count": 19
        }
      ],
      "source": [
        "# Acessamos colocando o nome do campo entre chaves\n",
        "print(dicio[\"tamanho\"])\n",
        "\n",
        "# Se não achar a chave \"mensagem\" retorna o segundo argumento\n",
        "print(dicio.get(\"mensagem\", \"Bom dia, Usuário!\"))\n",
        "\n",
        "# Adiciona mais campos no dicionário\n",
        "dicio.update({ \"preco\": 32, \"produto\": \"BaNaNa\" })\n",
        "dicio"
      ]
    },
    {
      "cell_type": "code",
      "execution_count": null,
      "metadata": {
        "id": "n7CPjsK8YrRZ",
        "colab": {
          "base_uri": "https://localhost:8080/"
        },
        "outputId": "f376a086-6d0d-4a5e-d574-b775a349df26"
      },
      "outputs": [
        {
          "output_type": "stream",
          "name": "stdout",
          "text": [
            "Essa chave está aqui\n",
            "Esse valor está no dicionário\n"
          ]
        }
      ],
      "source": [
        "# Checa se a chave existe no dicionário\n",
        "if \"mensagem\" in dicio:\n",
        "    print(\"Essa chave está aqui\")\n",
        "\n",
        "# Checa se o valor existe no dicionário\n",
        "if 15 in dicio.values():\n",
        "    print(\"Esse valor está no dicionário\")"
      ]
    },
    {
      "cell_type": "code",
      "source": [],
      "metadata": {
        "id": "XjSn2MaEpWjn"
      },
      "execution_count": null,
      "outputs": []
    }
  ],
  "metadata": {
    "kernelspec": {
      "display_name": "Python 3",
      "language": "python",
      "name": "python3"
    },
    "language_info": {
      "codemirror_mode": {
        "name": "ipython",
        "version": 3
      },
      "file_extension": ".py",
      "mimetype": "text/x-python",
      "name": "python",
      "nbconvert_exporter": "python",
      "pygments_lexer": "ipython3",
      "version": "3.11.1"
    },
    "orig_nbformat": 4,
    "colab": {
      "provenance": []
    }
  },
  "nbformat": 4,
  "nbformat_minor": 0
}